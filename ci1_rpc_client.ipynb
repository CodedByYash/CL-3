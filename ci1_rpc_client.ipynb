{
 "cells": [
  {
   "cell_type": "code",
   "execution_count": null,
   "id": "47eaaf89-a856-43e0-bc7e-716d505847be",
   "metadata": {},
   "outputs": [
    {
     "name": "stdout",
     "output_type": "stream",
     "text": [
      "Factorial of 10 is: 3628800\n"
     ]
    }
   ],
   "source": [
    "import xmlrpc.client\n",
    "# Create an XML-RPC client\n",
    "with xmlrpc.client.ServerProxy(\"http://localhost:8000/RPC2\") as proxy:\n",
    "    try:\n",
    "        # Replace 5 with the desired integer value\n",
    "        input_value = 10\n",
    "        result = proxy.calculate_factorial(input_value)\n",
    "        print(f\"Factorial of {input_value} is: {result}\")\n",
    "    except Exception as e:\n",
    "        print(f\"Error: {e}\")"
   ]
  },
  {
   "cell_type": "code",
   "execution_count": null,
   "id": "7df8fa7c",
   "metadata": {},
   "outputs": [],
   "source": []
  }
 ],
 "metadata": {
  "kernelspec": {
   "display_name": "Python 3",
   "language": "python",
   "name": "python3"
  },
  "language_info": {
   "codemirror_mode": {
    "name": "ipython",
    "version": 3
   },
   "file_extension": ".py",
   "mimetype": "text/x-python",
   "name": "python",
   "nbconvert_exporter": "python",
   "pygments_lexer": "ipython3",
   "version": "3.13.1"
  }
 },
 "nbformat": 4,
 "nbformat_minor": 5
}
