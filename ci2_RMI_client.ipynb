{
 "cells": [
  {
   "cell_type": "code",
   "execution_count": 5,
   "id": "b90e6688-99f0-4689-91d0-061362211cef",
   "metadata": {},
   "outputs": [
    {
     "name": "stdout",
     "output_type": "stream",
     "text": [
      "Enter the first string:  yash\n",
      "Enter the second string:  gawade\n"
     ]
    },
    {
     "name": "stdout",
     "output_type": "stream",
     "text": [
      "Concatenated Result: yashgawade\n"
     ]
    }
   ],
   "source": [
    "import Pyro4\n",
    "\n",
    "def main():\n",
    "    with open(\"server_uri.txt\", \"r\") as f:\n",
    "        uri = f.read()\n",
    "\n",
    "    server = Pyro4.Proxy(uri)  # Connect to the remote server\n",
    "\n",
    "    str1 = input(\"Enter the first string: \")\n",
    "    str2 = input(\"Enter the second string: \")\n",
    "\n",
    "    result = server.concatenate_strings(str1, str2)\n",
    "\n",
    "    print(\"Concatenated Result:\", result)\n",
    "\n",
    "if __name__ == \"__main__\":\n",
    "    main()\n"
   ]
  },
  {
   "cell_type": "code",
   "execution_count": 11,
   "id": "f93b3c57-f7cd-4132-881a-e3d1fd955b73",
   "metadata": {},
   "outputs": [
    {
     "name": "stdout",
     "output_type": "stream",
     "text": [
      "concatenated string: af\n"
     ]
    }
   ],
   "source": [
    "import Pyro4\n",
    "\n",
    "def main():\n",
    "    with open(\"server_uri.txt\",\"r\") as f:\n",
    "        uri = f.read()\n",
    "\n",
    "    server = Pyro4.Proxy(uri)\n",
    "\n",
    "    str1 = input(\"enter 1st string\")\n",
    "    str2 = input(\"enter 2nd string\")\n",
    "\n",
    "    result = server.concatenate_strings(str1,str2)\n",
    "\n",
    "    print(f\"concatenated string: {result}\")\n",
    "\n",
    "if __name__==\"__main__\":\n",
    "    main()"
   ]
  },
  {
   "cell_type": "code",
   "execution_count": null,
   "id": "4738cfc3",
   "metadata": {},
   "outputs": [],
   "source": []
  }
 ],
 "metadata": {
  "kernelspec": {
   "display_name": "Python 3",
   "language": "python",
   "name": "python3"
  },
  "language_info": {
   "codemirror_mode": {
    "name": "ipython",
    "version": 3
   },
   "file_extension": ".py",
   "mimetype": "text/x-python",
   "name": "python",
   "nbconvert_exporter": "python",
   "pygments_lexer": "ipython3",
   "version": "3.13.1"
  }
 },
 "nbformat": 4,
 "nbformat_minor": 5
}
