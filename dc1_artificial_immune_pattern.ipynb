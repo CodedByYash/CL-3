{
 "cells": [
  {
   "cell_type": "code",
   "execution_count": 4,
   "metadata": {},
   "outputs": [],
   "source": [
    "import numpy as np"
   ]
  },
  {
   "cell_type": "code",
   "execution_count": 5,
   "metadata": {},
   "outputs": [],
   "source": [
    "# Step 1: Generate Dummy Data (Replace with actual dataset in real use case)\n",
    "def generate_dummy_data(samples=100, features=10):\n",
    "    data = np.random.rand(samples, features)  # Random features between 0 and 1\n",
    "    labels = np.random.randint(0, 2, size=samples)  # Binary labels (0 = healthy, 1 = damaged)\n",
    "    return data, labels"
   ]
  },
  {
   "cell_type": "code",
   "execution_count": 6,
   "metadata": {},
   "outputs": [],
   "source": [
    "# Step 2: Define AIS Algorithm (Simple Clonal Selection-based detector)\n",
    "class AIRS:\n",
    "    def __init__(self, num_detectors=10, hypermutation_rate=0.1):\n",
    "        self.num_detectors = num_detectors\n",
    "        self.hypermutation_rate = hypermutation_rate\n",
    "\n",
    "    def train(self, X, y):\n",
    "        # Randomly select initial detectors from training data\n",
    "        self.detectors = X[np.random.choice(len(X), self.num_detectors, replace=False)]\n",
    "\n",
    "    def predict(self, X):\n",
    "        predictions = []\n",
    "        for sample in X:\n",
    "            distances = np.linalg.norm(self.detectors - sample, axis=1)\n",
    "            nearest = np.argmin(distances)\n",
    "            # Basic prediction based on the closest detector\n",
    "            predictions.append(1 if distances[nearest] < 0.5 else 0)\n",
    "        return np.array(predictions)\n"
   ]
  },
  {
   "cell_type": "code",
   "execution_count": 7,
   "metadata": {},
   "outputs": [
    {
     "name": "stdout",
     "output_type": "stream",
     "text": [
      "Accuracy: 0.60\n"
     ]
    }
   ],
   "source": [
    "# Step 3: Generate Dummy Data\n",
    "data, labels = generate_dummy_data()\n",
    "\n",
    "# Step 4: Train-Test Split\n",
    "split_ratio = 0.8\n",
    "split_index = int(split_ratio * len(data))\n",
    "train_data, test_data = data[:split_index], data[split_index:]\n",
    "train_labels, test_labels = labels[:split_index], labels[split_index:]\n",
    "\n",
    "# Step 5: Initialize and Train AIS\n",
    "airs = AIRS(num_detectors=10, hypermutation_rate=0.1)\n",
    "airs.train(train_data, train_labels)\n",
    "\n",
    "# Step 6: Predict and Evaluate\n",
    "predictions = airs.predict(test_data)\n",
    "accuracy = np.mean(predictions == test_labels)\n",
    "print(f\"Accuracy: {accuracy:.2f}\")"
   ]
  },
  {
   "cell_type": "code",
   "execution_count": null,
   "metadata": {},
   "outputs": [],
   "source": []
  },
  {
   "cell_type": "code",
   "execution_count": null,
   "metadata": {},
   "outputs": [],
   "source": []
  }
 ],
 "metadata": {
  "kernelspec": {
   "display_name": "Python 3",
   "language": "python",
   "name": "python3"
  },
  "language_info": {
   "codemirror_mode": {
    "name": "ipython",
    "version": 3
   },
   "file_extension": ".py",
   "mimetype": "text/x-python",
   "name": "python",
   "nbconvert_exporter": "python",
   "pygments_lexer": "ipython3",
   "version": "3.13.1"
  }
 },
 "nbformat": 4,
 "nbformat_minor": 2
}
