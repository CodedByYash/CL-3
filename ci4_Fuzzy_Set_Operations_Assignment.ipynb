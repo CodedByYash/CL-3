{
 "cells": [
  {
   "cell_type": "markdown",
   "metadata": {},
   "source": [
    "# Fuzzy Set Operations and Relations\n",
    "### Assignment 4 - Artificial Intelligence and Data Science\n",
    "**Objective:** Implement Union, Intersection, Complement, and Difference operations on fuzzy sets. Create fuzzy relations using Cartesian product and perform max-min composition."
   ]
  },
  {
   "cell_type": "code",
   "execution_count": 1,
   "metadata": {},
   "outputs": [
    {
     "name": "stdout",
     "output_type": "stream",
     "text": [
      "Fuzzy Set Union is : {'a': 0.9, 'b': 0.9, 'c': 0.6, 'd': 0.6}\n"
     ]
    }
   ],
   "source": [
    "# Union of Two Fuzzy Sets\n",
    "A = {\"a\": 0.2, \"b\": 0.3, \"c\": 0.6, \"d\": 0.6}\n",
    "B = {\"a\": 0.9, \"b\": 0.9, \"c\": 0.4, \"d\": 0.5}\n",
    "Y = {key: max(A[key], B[key]) for key in A}\n",
    "print('Fuzzy Set Union is :', Y)"
   ]
  },
  {
   "cell_type": "code",
   "execution_count": 2,
   "metadata": {},
   "outputs": [
    {
     "name": "stdout",
     "output_type": "stream",
     "text": [
      "Fuzzy Set Intersection is : {'a': 0.2, 'b': 0.3, 'c': 0.4, 'd': 0.5}\n"
     ]
    }
   ],
   "source": [
    "# Intersection of Two Fuzzy Sets\n",
    "Y = {key: min(A[key], B[key]) for key in A}\n",
    "print('Fuzzy Set Intersection is :', Y)"
   ]
  },
  {
   "cell_type": "code",
   "execution_count": 3,
   "metadata": {},
   "outputs": [
    {
     "name": "stdout",
     "output_type": "stream",
     "text": [
      "Fuzzy Set Complement is : {'a': 0.8, 'b': 0.7, 'c': 0.4, 'd': 0.4}\n"
     ]
    }
   ],
   "source": [
    "# Complement of a Fuzzy Set A\n",
    "Y = {key: 1 - A[key] for key in A}\n",
    "print('Fuzzy Set Complement is :', Y)"
   ]
  },
  {
   "cell_type": "code",
   "execution_count": 4,
   "metadata": {},
   "outputs": [
    {
     "name": "stdout",
     "output_type": "stream",
     "text": [
      "Fuzzy Set Difference is : {'a': 0.09999999999999998, 'b': 0.09999999999999998, 'c': 0.6, 'd': 0.5}\n"
     ]
    }
   ],
   "source": [
    "# Difference Between Two Fuzzy Sets (A - B)\n",
    "Y = {key: min(A[key], 1 - B[key]) for key in A}\n",
    "print('Fuzzy Set Difference is :', Y)"
   ]
  },
  {
   "cell_type": "code",
   "execution_count": 5,
   "metadata": {},
   "outputs": [
    {
     "name": "stdout",
     "output_type": "stream",
     "text": [
      "Fuzzy Relation by Cartesian Product:\n",
      "('x1', 'y1'): 0.2\n",
      "('x1', 'y2'): 0.2\n",
      "('x2', 'y1'): 0.5\n",
      "('x2', 'y2'): 0.5\n"
     ]
    }
   ],
   "source": [
    "# Cartesian Product of Two Fuzzy Sets\n",
    "A = {\"x1\": 0.2, \"x2\": 0.5}\n",
    "B = {\"y1\": 0.6, \"y2\": 0.8}\n",
    "cartesian_product = {(a, b): min(A[a], B[b]) for a in A for b in B}\n",
    "print(\"Fuzzy Relation by Cartesian Product:\")\n",
    "for key, val in cartesian_product.items():\n",
    "    print(f\"{key}: {val}\")"
   ]
  },
  {
   "cell_type": "code",
   "execution_count": 6,
   "metadata": {},
   "outputs": [
    {
     "name": "stdout",
     "output_type": "stream",
     "text": [
      "Max-Min Composition:\n",
      "('x1', 'z1'): 0.4\n",
      "('x1', 'z2'): 0.5\n",
      "('x2', 'z1'): 0.6\n",
      "('x2', 'z2'): 0.7\n"
     ]
    }
   ],
   "source": [
    "# Max-Min Composition of Two Fuzzy Relations\n",
    "R1 = {\n",
    "    ('x1', 'y1'): 0.2, ('x1', 'y2'): 0.5,\n",
    "    ('x2', 'y1'): 0.7, ('x2', 'y2'): 0.3\n",
    "}\n",
    "R2 = {\n",
    "    ('y1', 'z1'): 0.6, ('y1', 'z2'): 0.9,\n",
    "    ('y2', 'z1'): 0.4, ('y2', 'z2'): 0.5\n",
    "}\n",
    "composition = {}\n",
    "for x in ['x1', 'x2']:\n",
    "    for z in ['z1', 'z2']:\n",
    "        values = [min(R1[(x, y)], R2[(y, z)]) for y in ['y1', 'y2']]\n",
    "        composition[(x, z)] = max(values)\n",
    "print(\"Max-Min Composition:\")\n",
    "for key, val in composition.items():\n",
    "    print(f\"{key}: {val}\")"
   ]
  }
 ],
 "metadata": {
  "kernelspec": {
   "display_name": "Python 3",
   "language": "python",
   "name": "python3"
  },
  "language_info": {
   "codemirror_mode": {
    "name": "ipython",
    "version": 3
   },
   "file_extension": ".py",
   "mimetype": "text/x-python",
   "name": "python",
   "nbconvert_exporter": "python",
   "pygments_lexer": "ipython3",
   "version": "3.13.1"
  }
 },
 "nbformat": 4,
 "nbformat_minor": 2
}
