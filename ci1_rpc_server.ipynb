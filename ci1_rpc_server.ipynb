{
 "cells": [
  {
   "cell_type": "code",
   "execution_count": null,
   "id": "a0a8e980-c0b0-43f8-9894-ab3d009ecab8",
   "metadata": {},
   "outputs": [
    {
     "name": "stdout",
     "output_type": "stream",
     "text": [
      "FactorialServer is ready to accept requests.\n"
     ]
    },
    {
     "name": "stderr",
     "output_type": "stream",
     "text": [
      "127.0.0.1 - - [19/Mar/2025 13:30:04] \"POST /RPC2 HTTP/1.1\" 200 -\n",
      "127.0.0.1 - - [19/Mar/2025 13:30:28] \"POST /RPC2 HTTP/1.1\" 200 -\n"
     ]
    }
   ],
   "source": [
    "from xmlrpc.server import SimpleXMLRPCServer\n",
    "from xmlrpc.server import SimpleXMLRPCRequestHandler\n",
    "class FactorialServer:\n",
    "    def calculate_factorial(self, n):\n",
    "        if n < 0:\n",
    "            raise ValueError(\"Input must be a non-negative integer.\")\n",
    "        result = 1\n",
    "        for i in range(1, n + 1):\n",
    "            result *= i\n",
    "        return result\n",
    "# Restrict to a particular path.\n",
    "class RequestHandler(SimpleXMLRPCRequestHandler):\n",
    "    rpc_paths = ('/RPC2',)\n",
    "# Create server\n",
    "with SimpleXMLRPCServer(('localhost', 8000),\n",
    "                        requestHandler=RequestHandler) as server:\n",
    "    server.register_introspection_functions()\n",
    "    # Register the FactorialServer class\n",
    "    server.register_instance(FactorialServer())\n",
    "    print(\"FactorialServer is ready to accept requests.\")\n",
    "    # Run the server's main loop\n",
    "    server.serve_forever()\n"
   ]
  },
  {
   "cell_type": "code",
   "execution_count": null,
   "id": "76ae2222-a4bc-4a68-b34a-48a293f20f4d",
   "metadata": {},
   "outputs": [],
   "source": []
  }
 ],
 "metadata": {
  "kernelspec": {
   "display_name": "Python 3 (ipykernel)",
   "language": "python",
   "name": "python3"
  },
  "language_info": {
   "codemirror_mode": {
    "name": "ipython",
    "version": 3
   },
   "file_extension": ".py",
   "mimetype": "text/x-python",
   "name": "python",
   "nbconvert_exporter": "python",
   "pygments_lexer": "ipython3",
   "version": "3.13.1"
  }
 },
 "nbformat": 4,
 "nbformat_minor": 5
}
