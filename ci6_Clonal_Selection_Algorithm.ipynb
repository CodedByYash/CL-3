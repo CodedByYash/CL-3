{
 "cells": [
  {
   "cell_type": "code",
   "execution_count": 3,
   "metadata": {},
   "outputs": [
    {
     "name": "stdout",
     "output_type": "stream",
     "text": [
      "Best Solution: [-0.00264116 -0.00749718  0.03995081 -0.02271875  0.00311864]\n",
      "Best Fitness (Sphere Function Value): 0.002185117735329901\n"
     ]
    }
   ],
   "source": [
    "import numpy as np\n",
    "\n",
    "# Sphere function (minimization)\n",
    "def fitness_function(x):\n",
    "    return np.sum(x**2)\n",
    "\n",
    "# Initialize random population\n",
    "def initialize_population(size, dimensions, lower_bound, upper_bound):\n",
    "    return np.random.uniform(lower_bound, upper_bound, (size, dimensions))\n",
    "\n",
    "# Calculate affinity (fitness)\n",
    "def calculate_affinity(population):\n",
    "    return np.array([fitness_function(individual) for individual in population])\n",
    "\n",
    "# Select top N antibodies (lower fitness = better)\n",
    "def select_top_n(population, affinity, n):\n",
    "    sorted_indices = np.argsort(affinity)\n",
    "    return population[sorted_indices[:n]]\n",
    "\n",
    "# Clone antibodies (more clones for better ones)\n",
    "def clone_antibodies(antibodies, clone_factor):\n",
    "    clones = []\n",
    "    for i, antibody in enumerate(antibodies):\n",
    "        n_clones = int(clone_factor * (len(antibodies) - i))\n",
    "        clones.extend([antibody.copy() for _ in range(n_clones)])\n",
    "    return np.array(clones)\n",
    "\n",
    "# Mutation (gaussian noise)\n",
    "def mutate_antibodies(clones, mutation_rate, lower_bound, upper_bound):\n",
    "    for i in range(len(clones)):\n",
    "        if np.random.rand() < mutation_rate:\n",
    "            noise = np.random.normal(0, 0.1, size=clones[i].shape)\n",
    "            clones[i] += noise\n",
    "            clones[i] = np.clip(clones[i], lower_bound, upper_bound)\n",
    "    return clones\n",
    "\n",
    "# Select next generation from current and mutated\n",
    "def select_next_generation(current, mutated, size):\n",
    "    combined = np.vstack((current, mutated))\n",
    "    affinity = calculate_affinity(combined)\n",
    "    sorted_indices = np.argsort(affinity)\n",
    "    return combined[sorted_indices[:size]]\n",
    "\n",
    "# Return the best antibody\n",
    "def best_antibody(population):\n",
    "    fitness = calculate_affinity(population)\n",
    "    best_index = np.argmin(fitness)\n",
    "    return population[best_index], fitness[best_index]\n",
    "\n",
    "# Clonal Selection Algorithm\n",
    "def clonal_selection_algorithm(pop_size=20, dimensions=5, mutation_rate=0.2, iterations=100, clone_factor=5,\n",
    "                               lower_bound=-5, upper_bound=5, n_select=5):\n",
    "    population = initialize_population(pop_size, dimensions, lower_bound, upper_bound)\n",
    "\n",
    "    for i in range(iterations):\n",
    "        affinity = calculate_affinity(population)\n",
    "        selected = select_top_n(population, affinity, n_select)\n",
    "        clones = clone_antibodies(selected, clone_factor)\n",
    "        mutated_clones = mutate_antibodies(clones, mutation_rate, lower_bound, upper_bound)\n",
    "        population = select_next_generation(population, mutated_clones, pop_size)\n",
    "\n",
    "    return best_antibody(population)\n",
    "\n",
    "# Run the CSA\n",
    "best_solution, best_fitness = clonal_selection_algorithm()\n",
    "print(\"Best Solution:\", best_solution)\n",
    "print(\"Best Fitness (Sphere Function Value):\", best_fitness)\n"
   ]
  }
 ],
 "metadata": {
  "kernelspec": {
   "display_name": "Python 3",
   "language": "python",
   "name": "python3"
  },
  "language_info": {
   "codemirror_mode": {
    "name": "ipython",
    "version": 3
   },
   "file_extension": ".py",
   "mimetype": "text/x-python",
   "name": "python",
   "nbconvert_exporter": "python",
   "pygments_lexer": "ipython3",
   "version": "3.13.1"
  }
 },
 "nbformat": 4,
 "nbformat_minor": 5
}
