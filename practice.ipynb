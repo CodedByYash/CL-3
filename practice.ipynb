{
 "cells": [
  {
   "cell_type": "code",
   "execution_count": 1,
   "id": "33c0f289",
   "metadata": {},
   "outputs": [],
   "source": [
    "import numpy as np"
   ]
  },
  {
   "cell_type": "code",
   "execution_count": 2,
   "metadata": {},
   "outputs": [],
   "source": [
    "def generate_dummy_data(samples=100, features=10):\n",
    "    data = np.random.rand(samples,features)\n",
    "    labels = np.random.randint(0,2,size=samples)\n",
    "    return labels,data"
   ]
  },
  {
   "cell_type": "code",
   "execution_count": null,
   "id": "3fdd1af8",
   "metadata": {},
   "outputs": [],
   "source": [
    "class AIRS:\n",
    "    def __init__(self,num_detectors=10,hypermutation_rate=0.1):\n",
    "        self.num_detectors= num_detectors\n",
    "        self.hypermutation_rate = hypermutation_rate\n",
    "\n",
    "    def train(self,X,y):\n",
    "        self.detectors = X[np.random.choice(len(X), self.num_detectors,replace=False)]\n",
    "\n",
    "    def predict(self,X):\n",
    "        predictions=[]\n",
    "        for sample in X:\n",
    "            distances = np."
   ]
  }
 ],
 "metadata": {
  "kernelspec": {
   "display_name": "Python 3",
   "language": "python",
   "name": "python3"
  },
  "language_info": {
   "codemirror_mode": {
    "name": "ipython",
    "version": 3
   },
   "file_extension": ".py",
   "mimetype": "text/x-python",
   "name": "python",
   "nbconvert_exporter": "python",
   "pygments_lexer": "ipython3",
   "version": "3.13.1"
  }
 },
 "nbformat": 4,
 "nbformat_minor": 5
}
