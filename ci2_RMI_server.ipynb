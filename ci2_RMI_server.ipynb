{
 "cells": [
  {
   "cell_type": "code",
   "execution_count": 3,
   "id": "c43e4446-9374-483a-be8b-39977371b8e4",
   "metadata": {},
   "outputs": [
    {
     "name": "stdout",
     "output_type": "stream",
     "text": [
      "Requirement already satisfied: Pyro4 in c:\\users\\admin\\appdata\\local\\programs\\python\\python313\\lib\\site-packages (4.82)\n",
      "Requirement already satisfied: serpent>=1.27 in c:\\users\\admin\\appdata\\local\\programs\\python\\python313\\lib\\site-packages (from Pyro4) (1.41)\n",
      "Note: you may need to restart the kernel to use updated packages.\n"
     ]
    },
    {
     "name": "stderr",
     "output_type": "stream",
     "text": [
      "\n",
      "[notice] A new release of pip is available: 25.0 -> 25.1.1\n",
      "[notice] To update, run: python.exe -m pip install --upgrade pip\n"
     ]
    }
   ],
   "source": [
    "pip install Pyro4"
   ]
  },
  {
   "cell_type": "code",
   "execution_count": null,
   "id": "a08ee40b-9191-4fc7-8e97-917c797c5a5b",
   "metadata": {},
   "outputs": [
    {
     "name": "stdout",
     "output_type": "stream",
     "text": [
      "Server URI: PYRO:obj_226b148c95d14bd2a17e359beedb422d@localhost:49293\n"
     ]
    }
   ],
   "source": [
    "import Pyro4\n",
    "@Pyro4.expose\n",
    "class StringConcatenationServer:\n",
    "    def concatenate_strings(self, str1, str2):\n",
    "        result = str1 + str2\n",
    "        return result\n",
    "\n",
    "def main():\n",
    "    daemon = Pyro4.Daemon()  # Create a Pyro daemon\n",
    "    ns = Pyro4.locateNS()  # Locate the Pyro nameserver\n",
    "\n",
    "    # Create an instance of the server class\n",
    "    server = StringConcatenationServer()\n",
    "\n",
    "    # Register the server object with the Pyro nameserver\n",
    "    uri = daemon.register(server)\n",
    "    ns.register(\"string.concatenation\", uri)\n",
    "\n",
    "    print(\"Server URI:\", uri)\n",
    "\n",
    "    with open(\"server_uri.txt\", \"w\") as f:\n",
    "        f.write(str(uri))\n",
    "\n",
    "    daemon.requestLoop()\n",
    "\n",
    "if __name__ == \"__main__\":\n",
    "    main()\n"
   ]
  },
  {
   "cell_type": "code",
   "execution_count": null,
   "id": "b1ba75d5-a54b-4e50-bd29-21254e816fc6",
   "metadata": {},
   "outputs": [],
   "source": []
  }
 ],
 "metadata": {
  "kernelspec": {
   "display_name": "Python 3",
   "language": "python",
   "name": "python3"
  },
  "language_info": {
   "codemirror_mode": {
    "name": "ipython",
    "version": 3
   },
   "file_extension": ".py",
   "mimetype": "text/x-python",
   "name": "python",
   "nbconvert_exporter": "python",
   "pygments_lexer": "ipython3",
   "version": "3.13.1"
  }
 },
 "nbformat": 4,
 "nbformat_minor": 5
}
