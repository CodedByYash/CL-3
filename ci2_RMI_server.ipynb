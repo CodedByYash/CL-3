{
 "cells": [
  {
   "cell_type": "code",
   "execution_count": 1,
   "id": "c43e4446-9374-483a-be8b-39977371b8e4",
   "metadata": {},
   "outputs": [
    {
     "name": "stdout",
     "output_type": "stream",
     "text": [
      "Collecting Pyro4\n",
      "  Downloading Pyro4-4.82-py2.py3-none-any.whl.metadata (2.2 kB)\n",
      "Collecting serpent>=1.27 (from Pyro4)\n",
      "  Downloading serpent-1.41-py3-none-any.whl.metadata (5.8 kB)\n",
      "Downloading Pyro4-4.82-py2.py3-none-any.whl (89 kB)\n",
      "Downloading serpent-1.41-py3-none-any.whl (9.6 kB)\n",
      "Installing collected packages: serpent, Pyro4\n",
      "Successfully installed Pyro4-4.82 serpent-1.41\n",
      "Note: you may need to restart the kernel to use updated packages.\n"
     ]
    },
    {
     "name": "stderr",
     "output_type": "stream",
     "text": [
      "\n",
      "[notice] A new release of pip is available: 25.0 -> 25.0.1\n",
      "[notice] To update, run: python.exe -m pip install --upgrade pip\n"
     ]
    }
   ],
   "source": [
    "pip install Pyro4"
   ]
  },
  {
   "cell_type": "code",
   "execution_count": null,
   "id": "a08ee40b-9191-4fc7-8e97-917c797c5a5b",
   "metadata": {},
   "outputs": [
    {
     "name": "stdout",
     "output_type": "stream",
     "text": [
      "Server URI: PYRO:obj_b133b2b5effa4bf9993037d813ead7d7@localhost:52498\n"
     ]
    }
   ],
   "source": [
    "import Pyro4\n",
    "@Pyro4.expose\n",
    "class StringConcatenationServer:\n",
    "    def concatenate_strings(self, str1, str2):\n",
    "        result = str1 + str2\n",
    "        return result\n",
    "\n",
    "def main():\n",
    "    daemon = Pyro4.Daemon()  # Create a Pyro daemon\n",
    "    ns = Pyro4.locateNS()  # Locate the Pyro nameserver\n",
    "\n",
    "    # Create an instance of the server class\n",
    "    server = StringConcatenationServer()\n",
    "\n",
    "    # Register the server object with the Pyro nameserver\n",
    "    uri = daemon.register(server)\n",
    "    ns.register(\"string.concatenation\", uri)\n",
    "\n",
    "    print(\"Server URI:\", uri)\n",
    "\n",
    "    with open(\"server_uri.txt\", \"w\") as f:\n",
    "        f.write(str(uri))\n",
    "\n",
    "    daemon.requestLoop()\n",
    "\n",
    "if __name__ == \"__main__\":\n",
    "    main()\n"
   ]
  },
  {
   "cell_type": "code",
   "execution_count": null,
   "id": "b1ba75d5-a54b-4e50-bd29-21254e816fc6",
   "metadata": {},
   "outputs": [],
   "source": []
  }
 ],
 "metadata": {
  "kernelspec": {
   "display_name": "Python 3 (ipykernel)",
   "language": "python",
   "name": "python3"
  },
  "language_info": {
   "codemirror_mode": {
    "name": "ipython",
    "version": 3
   },
   "file_extension": ".py",
   "mimetype": "text/x-python",
   "name": "python",
   "nbconvert_exporter": "python",
   "pygments_lexer": "ipython3",
   "version": "3.13.1"
  }
 },
 "nbformat": 4,
 "nbformat_minor": 5
}
